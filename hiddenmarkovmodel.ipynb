{
 "cells": [
  {
   "cell_type": "markdown",
   "id": "b2bb90e4",
   "metadata": {},
   "source": [
    "in our problem we have our poor prisoner who is stuck in a prison ...as the story says... this prison is completely isolated \n",
    "from the rest of the world...and one cannot even see the sky ....in such scenario our prisoner has been in the prison for 2 years \n",
    "now...the funny thing is that tree is an incharge who takes care of all the prisoners ...so the incharge wears a hat if its sunny \n",
    "and wears a rain coat if its rainy... since the prisoner has no access to open spaces ...he can only deducethe wheather by cheacking \n",
    "what the incharge came in everyday ...is it a raincoat or a hat ....."
   ]
  },
  {
   "cell_type": "markdown",
   "id": "fff3bf1e",
   "metadata": {},
   "source": [
    "# 1.import the libraries"
   ]
  },
  {
   "cell_type": "code",
   "execution_count": 1,
   "id": "a0061bd5",
   "metadata": {},
   "outputs": [],
   "source": [
    "from protopunica import *"
   ]
  },
  {
   "cell_type": "code",
   "execution_count": null,
   "id": "97a4d3a3",
   "metadata": {},
   "outputs": [],
   "source": []
  },
  {
   "cell_type": "markdown",
   "id": "6bb55a66",
   "metadata": {},
   "source": [
    "pomegranate is a python library that implements probabilistic models"
   ]
  },
  {
   "cell_type": "markdown",
   "id": "f384fb73",
   "metadata": {},
   "source": [
    "# 2.observation model"
   ]
  },
  {
   "cell_type": "code",
   "execution_count": 2,
   "id": "3da83640",
   "metadata": {},
   "outputs": [],
   "source": [
    "sunny = DiscreteDistribution({\"raincoat\" : 0.1,\"Hat\" : 0.9})\n",
    "rainy = DiscreteDistribution({\"raincoat\" : 0.7,\"Hat\" : 0.3})"
   ]
  },
  {
   "cell_type": "markdown",
   "id": "d378161b",
   "metadata": {},
   "source": [
    "# 3.define states"
   ]
  },
  {
   "cell_type": "code",
   "execution_count": 3,
   "id": "fd4f6427",
   "metadata": {},
   "outputs": [],
   "source": [
    "states=[sunny,rainy]"
   ]
  },
  {
   "cell_type": "markdown",
   "id": "7622ad19",
   "metadata": {},
   "source": [
    "# 4.transition model"
   ]
  },
  {
   "cell_type": "code",
   "execution_count": 4,
   "id": "d496ac2b",
   "metadata": {},
   "outputs": [],
   "source": [
    "transition_model = numpy.array([[0.7,0.3],[0.4,0.6]])"
   ]
  },
  {
   "cell_type": "markdown",
   "id": "30a60424",
   "metadata": {},
   "source": [
    "# 5.initial state"
   ]
  },
  {
   "cell_type": "code",
   "execution_count": 5,
   "id": "e3972bbc",
   "metadata": {},
   "outputs": [],
   "source": [
    "Initial_state=numpy.array([0.3,0.7])"
   ]
  },
  {
   "cell_type": "markdown",
   "id": "eaeae1a4",
   "metadata": {},
   "source": [
    "# 6.build the model"
   ]
  },
  {
   "cell_type": "code",
   "execution_count": 6,
   "id": "1dab9d6f",
   "metadata": {},
   "outputs": [],
   "source": [
    "model=HiddenMarkovModel.from_matrix(\n",
    "transition_model,states,Initial_state,\n",
    "state_names=[\"sunny\",\"rainy\"])"
   ]
  },
  {
   "cell_type": "markdown",
   "id": "cd6889d6",
   "metadata": {},
   "source": [
    "# 7.bake the model"
   ]
  },
  {
   "cell_type": "code",
   "execution_count": 7,
   "id": "22fcb635",
   "metadata": {},
   "outputs": [],
   "source": [
    "model.bake()"
   ]
  },
  {
   "cell_type": "markdown",
   "id": "de21ca06",
   "metadata": {},
   "source": [
    "# 8.observation"
   ]
  },
  {
   "cell_type": "code",
   "execution_count": 8,
   "id": "53e3b317",
   "metadata": {},
   "outputs": [],
   "source": [
    "observations=[\"Hat\",\"Hat\",\"raincoat\",\"raincoat\",\"Hat\",\"Hat\",\"raincoat\",\"Hat\",\"Hat\"]"
   ]
  },
  {
   "cell_type": "markdown",
   "id": "b833a6de",
   "metadata": {},
   "source": [
    "# 9.predict the states for given observation"
   ]
  },
  {
   "cell_type": "code",
   "execution_count": 9,
   "id": "ded92fdd",
   "metadata": {},
   "outputs": [],
   "source": [
    "predictions=model.predict(observations)"
   ]
  },
  {
   "cell_type": "code",
   "execution_count": 10,
   "id": "0c3a77f4",
   "metadata": {},
   "outputs": [
    {
     "data": {
      "text/plain": [
       "[1, 1, 0, 0, 1, 1, 0, 1, 1]"
      ]
     },
     "execution_count": 10,
     "metadata": {},
     "output_type": "execute_result"
    }
   ],
   "source": [
    "predictions"
   ]
  },
  {
   "cell_type": "markdown",
   "id": "c78a7ffd",
   "metadata": {},
   "source": [
    "# 10.model"
   ]
  },
  {
   "cell_type": "code",
   "execution_count": 11,
   "id": "6d655624",
   "metadata": {},
   "outputs": [
    {
     "data": {
      "text/plain": [
       "{\n",
       "    \"class\" : \"HiddenMarkovModel\",\n",
       "    \"name\" : \"None\",\n",
       "    \"start\" : {\n",
       "        \"class\" : \"State\",\n",
       "        \"distribution\" : null,\n",
       "        \"name\" : \"None-start\",\n",
       "        \"weight\" : 1.0\n",
       "    },\n",
       "    \"end\" : {\n",
       "        \"class\" : \"State\",\n",
       "        \"distribution\" : null,\n",
       "        \"name\" : \"None-end\",\n",
       "        \"weight\" : 1.0\n",
       "    },\n",
       "    \"states\" : [\n",
       "        {\n",
       "            \"class\" : \"State\",\n",
       "            \"distribution\" : {\n",
       "                \"class\" : \"Distribution\",\n",
       "                \"dtype\" : \"str\",\n",
       "                \"name\" : \"DiscreteDistribution\",\n",
       "                \"parameters\" : [\n",
       "                    {\n",
       "                        \"raincoat\" : 0.7,\n",
       "                        \"Hat\" : 0.3\n",
       "                    }\n",
       "                ],\n",
       "                \"frozen\" : false\n",
       "            },\n",
       "            \"name\" : \"rainy\",\n",
       "            \"weight\" : 1.0\n",
       "        },\n",
       "        {\n",
       "            \"class\" : \"State\",\n",
       "            \"distribution\" : {\n",
       "                \"class\" : \"Distribution\",\n",
       "                \"dtype\" : \"str\",\n",
       "                \"name\" : \"DiscreteDistribution\",\n",
       "                \"parameters\" : [\n",
       "                    {\n",
       "                        \"raincoat\" : 0.1,\n",
       "                        \"Hat\" : 0.9\n",
       "                    }\n",
       "                ],\n",
       "                \"frozen\" : false\n",
       "            },\n",
       "            \"name\" : \"sunny\",\n",
       "            \"weight\" : 1.0\n",
       "        },\n",
       "        {\n",
       "            \"class\" : \"State\",\n",
       "            \"distribution\" : null,\n",
       "            \"name\" : \"None-start\",\n",
       "            \"weight\" : 1.0\n",
       "        },\n",
       "        {\n",
       "            \"class\" : \"State\",\n",
       "            \"distribution\" : null,\n",
       "            \"name\" : \"None-end\",\n",
       "            \"weight\" : 1.0\n",
       "        }\n",
       "    ],\n",
       "    \"end_index\" : 3,\n",
       "    \"start_index\" : 2,\n",
       "    \"silent_index\" : 2,\n",
       "    \"edges\" : [\n",
       "        [\n",
       "            2,\n",
       "            1,\n",
       "            0.3,\n",
       "            0.3,\n",
       "            null\n",
       "        ],\n",
       "        [\n",
       "            2,\n",
       "            0,\n",
       "            0.7,\n",
       "            0.7,\n",
       "            null\n",
       "        ],\n",
       "        [\n",
       "            1,\n",
       "            1,\n",
       "            0.7,\n",
       "            0.7,\n",
       "            null\n",
       "        ],\n",
       "        [\n",
       "            1,\n",
       "            0,\n",
       "            0.3,\n",
       "            0.3,\n",
       "            null\n",
       "        ],\n",
       "        [\n",
       "            0,\n",
       "            1,\n",
       "            0.4,\n",
       "            0.4,\n",
       "            null\n",
       "        ],\n",
       "        [\n",
       "            0,\n",
       "            0,\n",
       "            0.6,\n",
       "            0.6,\n",
       "            null\n",
       "        ]\n",
       "    ],\n",
       "    \"distribution ties\" : []\n",
       "}"
      ]
     },
     "execution_count": 11,
     "metadata": {},
     "output_type": "execute_result"
    }
   ],
   "source": [
    "model"
   ]
  },
  {
   "cell_type": "code",
   "execution_count": null,
   "id": "28a2ed92",
   "metadata": {},
   "outputs": [],
   "source": []
  },
  {
   "cell_type": "code",
   "execution_count": null,
   "id": "67d46bfd",
   "metadata": {},
   "outputs": [],
   "source": []
  },
  {
   "cell_type": "code",
   "execution_count": 12,
   "id": "47d74987",
   "metadata": {},
   "outputs": [
    {
     "name": "stdout",
     "output_type": "stream",
     "text": [
      "sunny\n",
      "sunny\n",
      "rainy\n",
      "rainy\n",
      "sunny\n",
      "sunny\n",
      "rainy\n",
      "sunny\n",
      "sunny\n"
     ]
    }
   ],
   "source": [
    "for prediction in predictions:\n",
    "    print(model.states[prediction].name)"
   ]
  },
  {
   "cell_type": "code",
   "execution_count": 13,
   "id": "e4555884",
   "metadata": {},
   "outputs": [],
   "source": [
    "#pip install pandas "
   ]
  },
  {
   "cell_type": "code",
   "execution_count": 14,
   "id": "065b1e8a",
   "metadata": {},
   "outputs": [],
   "source": [
    "import pandas as pd"
   ]
  },
  {
   "cell_type": "code",
   "execution_count": 15,
   "id": "9f4617bb",
   "metadata": {},
   "outputs": [],
   "source": [
    "predicted_probabilities=model.predict_proba(observations)"
   ]
  },
  {
   "cell_type": "code",
   "execution_count": 16,
   "id": "2143d692",
   "metadata": {},
   "outputs": [],
   "source": [
    "Most_likely_Weather=pd.DataFrame(predicted_probabilities,columns=[\"Rainy\",\"Sunny\"])"
   ]
  },
  {
   "cell_type": "code",
   "execution_count": 18,
   "id": "59494031",
   "metadata": {},
   "outputs": [
    {
     "name": "stdout",
     "output_type": "stream",
     "text": [
      "      Rainy     Sunny\n",
      "0  0.399892  0.600108\n",
      "1  0.306306  0.693694\n",
      "2  0.859424  0.140576\n",
      "3  0.855572  0.144428\n",
      "4  0.266125  0.733875\n",
      "5  0.248499  0.751501\n",
      "6  0.730427  0.269573\n",
      "7  0.225295  0.774705\n",
      "8  0.171936  0.828064\n"
     ]
    }
   ],
   "source": [
    "print(Most_likely_Weather)"
   ]
  },
  {
   "cell_type": "code",
   "execution_count": null,
   "id": "446340c1",
   "metadata": {},
   "outputs": [],
   "source": []
  }
 ],
 "metadata": {
  "kernelspec": {
   "display_name": "Python 3 (ipykernel)",
   "language": "python",
   "name": "python3"
  },
  "language_info": {
   "codemirror_mode": {
    "name": "ipython",
    "version": 3
   },
   "file_extension": ".py",
   "mimetype": "text/x-python",
   "name": "python",
   "nbconvert_exporter": "python",
   "pygments_lexer": "ipython3",
   "version": "3.11.5"
  }
 },
 "nbformat": 4,
 "nbformat_minor": 5
}
