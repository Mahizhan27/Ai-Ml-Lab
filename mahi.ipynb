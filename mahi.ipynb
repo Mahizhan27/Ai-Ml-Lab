{
 "cells": [
  {
   "cell_type": "code",
   "execution_count": 1,
   "id": "49d9423f",
   "metadata": {},
   "outputs": [],
   "source": [
    "import cv2\n",
    "import numpy as np"
   ]
  },
  {
   "cell_type": "code",
   "execution_count": 2,
   "id": "f008905b",
   "metadata": {},
   "outputs": [],
   "source": [
    "im1=cv2.imread(\"C:/Users/SN124/Downloads/bmw_m4_interior_2-HD.jpg\")"
   ]
  },
  {
   "cell_type": "code",
   "execution_count": 3,
   "id": "7c8f2c6b",
   "metadata": {},
   "outputs": [
    {
     "data": {
      "text/plain": [
       "array([[[255, 253, 252],\n",
       "        [252, 248, 247],\n",
       "        [253, 249, 248],\n",
       "        ...,\n",
       "        [156, 140, 248],\n",
       "        [152, 137, 242],\n",
       "        [152, 136, 244]],\n",
       "\n",
       "       [[255, 251, 250],\n",
       "        [253, 249, 248],\n",
       "        [255, 251, 250],\n",
       "        ...,\n",
       "        [152, 135, 246],\n",
       "        [149, 132, 243],\n",
       "        [152, 135, 246]],\n",
       "\n",
       "       [[254, 250, 249],\n",
       "        [254, 250, 249],\n",
       "        [255, 252, 251],\n",
       "        ...,\n",
       "        [151, 134, 245],\n",
       "        [150, 131, 248],\n",
       "        [154, 137, 248]],\n",
       "\n",
       "       ...,\n",
       "\n",
       "       [[ 24,  16,   3],\n",
       "        [ 24,  16,   3],\n",
       "        [ 27,  19,   6],\n",
       "        ...,\n",
       "        [ 32,  20,   2],\n",
       "        [ 35,  23,   5],\n",
       "        [ 38,  26,   8]],\n",
       "\n",
       "       [[ 24,  16,   3],\n",
       "        [ 29,  21,   8],\n",
       "        [ 28,  20,   7],\n",
       "        ...,\n",
       "        [ 35,  23,   5],\n",
       "        [ 31,  19,   1],\n",
       "        [ 34,  23,   3]],\n",
       "\n",
       "       [[ 26,  18,   5],\n",
       "        [ 29,  21,   8],\n",
       "        [ 22,  14,   1],\n",
       "        ...,\n",
       "        [ 38,  26,   8],\n",
       "        [ 35,  24,   4],\n",
       "        [ 36,  25,   5]]], dtype=uint8)"
      ]
     },
     "execution_count": 3,
     "metadata": {},
     "output_type": "execute_result"
    }
   ],
   "source": [
    "im1"
   ]
  },
  {
   "cell_type": "code",
   "execution_count": 4,
   "id": "474a0435",
   "metadata": {},
   "outputs": [
    {
     "name": "stdout",
     "output_type": "stream",
     "text": [
      "(2160, 3840, 3)\n"
     ]
    }
   ],
   "source": [
    "print (im1.shape)"
   ]
  },
  {
   "cell_type": "code",
   "execution_count": 5,
   "id": "de150eec",
   "metadata": {},
   "outputs": [
    {
     "name": "stdout",
     "output_type": "stream",
     "text": [
      "24883200\n"
     ]
    }
   ],
   "source": [
    "print(im1.size)"
   ]
  },
  {
   "cell_type": "code",
   "execution_count": 6,
   "id": "3f8f018a",
   "metadata": {},
   "outputs": [],
   "source": [
    "im1_resized=cv2.resize(im1,(250,250))"
   ]
  },
  {
   "cell_type": "code",
   "execution_count": 7,
   "id": "cc664cb8",
   "metadata": {},
   "outputs": [
    {
     "name": "stdout",
     "output_type": "stream",
     "text": [
      "(250, 250, 3)\n"
     ]
    }
   ],
   "source": [
    "print(im1_resized.shape)"
   ]
  },
  {
   "cell_type": "code",
   "execution_count": null,
   "id": "02ae3fcb",
   "metadata": {},
   "outputs": [],
   "source": [
    "cv2.imshow(\"img1\",im1)\n",
    "cv2.imshow(\"img2\",im1_resized)\n",
    "cv2.waitKey(0)\n",
    "cv2.destroyAllWindows()"
   ]
  },
  {
   "cell_type": "markdown",
   "id": "045f37f8",
   "metadata": {},
   "source": [
    "# color space changing"
   ]
  },
  {
   "cell_type": "code",
   "execution_count": 8,
   "id": "24bec57d",
   "metadata": {},
   "outputs": [],
   "source": [
    "colors_av1=[i for i in dir(cv2)if i.startswith(\"COLOR_BGR\")]"
   ]
  },
  {
   "cell_type": "code",
   "execution_count": 9,
   "id": "4d292faa",
   "metadata": {},
   "outputs": [
    {
     "name": "stdout",
     "output_type": "stream",
     "text": [
      "['COLOR_BGR2BGR555', 'COLOR_BGR2BGR565', 'COLOR_BGR2BGRA', 'COLOR_BGR2GRAY', 'COLOR_BGR2HLS', 'COLOR_BGR2HLS_FULL', 'COLOR_BGR2HSV', 'COLOR_BGR2HSV_FULL', 'COLOR_BGR2LAB', 'COLOR_BGR2LUV', 'COLOR_BGR2Lab', 'COLOR_BGR2Luv', 'COLOR_BGR2RGB', 'COLOR_BGR2RGBA', 'COLOR_BGR2XYZ', 'COLOR_BGR2YCR_CB', 'COLOR_BGR2YCrCb', 'COLOR_BGR2YUV', 'COLOR_BGR2YUV_I420', 'COLOR_BGR2YUV_IYUV', 'COLOR_BGR2YUV_UYNV', 'COLOR_BGR2YUV_UYVY', 'COLOR_BGR2YUV_Y422', 'COLOR_BGR2YUV_YUNV', 'COLOR_BGR2YUV_YUY2', 'COLOR_BGR2YUV_YUYV', 'COLOR_BGR2YUV_YV12', 'COLOR_BGR2YUV_YVYU', 'COLOR_BGR5552BGR', 'COLOR_BGR5552BGRA', 'COLOR_BGR5552GRAY', 'COLOR_BGR5552RGB', 'COLOR_BGR5552RGBA', 'COLOR_BGR5652BGR', 'COLOR_BGR5652BGRA', 'COLOR_BGR5652GRAY', 'COLOR_BGR5652RGB', 'COLOR_BGR5652RGBA', 'COLOR_BGRA2BGR', 'COLOR_BGRA2BGR555', 'COLOR_BGRA2BGR565', 'COLOR_BGRA2GRAY', 'COLOR_BGRA2RGB', 'COLOR_BGRA2RGBA', 'COLOR_BGRA2YUV_I420', 'COLOR_BGRA2YUV_IYUV', 'COLOR_BGRA2YUV_UYNV', 'COLOR_BGRA2YUV_UYVY', 'COLOR_BGRA2YUV_Y422', 'COLOR_BGRA2YUV_YUNV', 'COLOR_BGRA2YUV_YUY2', 'COLOR_BGRA2YUV_YUYV', 'COLOR_BGRA2YUV_YV12', 'COLOR_BGRA2YUV_YVYU']\n"
     ]
    }
   ],
   "source": [
    "print(colors_av1)"
   ]
  },
  {
   "cell_type": "code",
   "execution_count": 11,
   "id": "65718cd5",
   "metadata": {},
   "outputs": [],
   "source": [
    "im3=cv2.cvtColor(im1,cv2.COLOR_BGR2HSV)"
   ]
  },
  {
   "cell_type": "code",
   "execution_count": 12,
   "id": "c32e7245",
   "metadata": {},
   "outputs": [],
   "source": [
    "cv2.imshow(\"img1\",im1)\n",
    "cv2.imshow(\"img2\",im3)\n",
    "cv2.waitKey(0)\n",
    "cv2.destroyAllWindows()"
   ]
  },
  {
   "cell_type": "code",
   "execution_count": null,
   "id": "b58948ab",
   "metadata": {},
   "outputs": [],
   "source": []
  }
 ],
 "metadata": {
  "kernelspec": {
   "display_name": "Python 3 (ipykernel)",
   "language": "python",
   "name": "python3"
  },
  "language_info": {
   "codemirror_mode": {
    "name": "ipython",
    "version": 3
   },
   "file_extension": ".py",
   "mimetype": "text/x-python",
   "name": "python",
   "nbconvert_exporter": "python",
   "pygments_lexer": "ipython3",
   "version": "3.9.12"
  }
 },
 "nbformat": 4,
 "nbformat_minor": 5
}
