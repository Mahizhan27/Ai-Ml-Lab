{
 "cells": [
  {
   "cell_type": "markdown",
   "id": "ceffd0ec",
   "metadata": {},
   "source": [
    "# Function"
   ]
  },
  {
   "cell_type": "code",
   "execution_count": null,
   "id": "34388620",
   "metadata": {},
   "outputs": [],
   "source": [
    "# def <function_name>(parameters):\n",
    "#   Doc String\n",
    "#    <statement(s) "
   ]
  },
  {
   "cell_type": "code",
   "execution_count": null,
   "id": "4541ad77",
   "metadata": {},
   "outputs": [],
   "source": [
    "def Birthday():\n",
    "    print(\"Invite the Relatives,\\n Buying a Cake from Bakery,\\n Decorating the room,\\n Cutting the Cake,\\n Distribute the piece of Cake,\\n Collect the Gifts from the relatives\")"
   ]
  },
  {
   "cell_type": "code",
   "execution_count": null,
   "id": "d602ff0c",
   "metadata": {},
   "outputs": [],
   "source": [
    "Birthday()"
   ]
  },
  {
   "cell_type": "code",
   "execution_count": null,
   "id": "3f69fb62",
   "metadata": {},
   "outputs": [],
   "source": [
    "def VoterId():\n",
    "    age = int(input(\"Enter Your age :\"))\n",
    "    if age >18:\n",
    "        print(\"You are  eligible to VOTE \")\n",
    "        name = input(\"Enter your Name :\")\n",
    "        pincode = input(\"Enter Your Pincode :\")\n",
    "    else: \n",
    "        print(\"You are Not Eligible to VOTE \")\n",
    "        print(\"When you attend you age of 18 , \\n Then you come to OFFICE\")\n",
    "        print(\"Now ,You go out from OFFICE\")"
   ]
  },
  {
   "cell_type": "code",
   "execution_count": null,
   "id": "d7c7c0f9",
   "metadata": {},
   "outputs": [],
   "source": [
    "VoterId()"
   ]
  },
  {
   "cell_type": "code",
   "execution_count": null,
   "id": "511ff950",
   "metadata": {},
   "outputs": [],
   "source": []
  }
 ],
 "metadata": {
  "kernelspec": {
   "display_name": "Python 3 (ipykernel)",
   "language": "python",
   "name": "python3"
  },
  "language_info": {
   "codemirror_mode": {
    "name": "ipython",
    "version": 3
   },
   "file_extension": ".py",
   "mimetype": "text/x-python",
   "name": "python",
   "nbconvert_exporter": "python",
   "pygments_lexer": "ipython3",
   "version": "3.10.12"
  }
 },
 "nbformat": 4,
 "nbformat_minor": 5
}
