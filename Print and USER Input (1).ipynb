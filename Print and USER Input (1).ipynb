{
 "cells": [
  {
   "cell_type": "markdown",
   "id": "59d04afb",
   "metadata": {},
   "source": [
    "# FORMAT PRINT"
   ]
  },
  {
   "cell_type": "code",
   "execution_count": 7,
   "id": "a31c0501",
   "metadata": {},
   "outputs": [],
   "source": [
    "a = \"Ganesh\""
   ]
  },
  {
   "cell_type": "code",
   "execution_count": 8,
   "id": "a2bdd9e3",
   "metadata": {},
   "outputs": [
    {
     "data": {
      "text/plain": [
       "str"
      ]
     },
     "execution_count": 8,
     "metadata": {},
     "output_type": "execute_result"
    }
   ],
   "source": [
    "type(a)"
   ]
  },
  {
   "cell_type": "code",
   "execution_count": 9,
   "id": "be09589b",
   "metadata": {},
   "outputs": [
    {
     "name": "stdout",
     "output_type": "stream",
     "text": [
      "Ganesh\n"
     ]
    }
   ],
   "source": [
    "print(a)"
   ]
  },
  {
   "cell_type": "code",
   "execution_count": 10,
   "id": "b7350bcd",
   "metadata": {},
   "outputs": [
    {
     "name": "stdout",
     "output_type": "stream",
     "text": [
      "MY Name is Ganesh\n"
     ]
    }
   ],
   "source": [
    "print(\"MY Name is {}\".format(a))"
   ]
  },
  {
   "cell_type": "code",
   "execution_count": 31,
   "id": "b663c6de",
   "metadata": {
    "scrolled": true
   },
   "outputs": [
    {
     "name": "stdout",
     "output_type": "stream",
     "text": [
      "MY Name is Arun Sriram , I'm in PMIST Chennai \n"
     ]
    }
   ],
   "source": [
    "print(\"MY Name is {name} , I'm in {b} Chennai \".format(name = \"Arun Sriram\", b = \"PMIST\"))"
   ]
  },
  {
   "cell_type": "code",
   "execution_count": 42,
   "id": "441bd6d6",
   "metadata": {},
   "outputs": [
    {
     "name": "stdout",
     "output_type": "stream",
     "text": [
      "study well by farandhaman\n"
     ]
    }
   ],
   "source": [
    "print(\"study well by {study}\".format(study = \"farandhaman\"))"
   ]
  },
  {
   "cell_type": "code",
   "execution_count": 43,
   "id": "397ee039",
   "metadata": {},
   "outputs": [
    {
     "name": "stdout",
     "output_type": "stream",
     "text": [
      "MY Name is asdljkjjf. i'm from sadwsfd\n"
     ]
    }
   ],
   "source": [
    "print(\"MY Name is {}. i'm from {}\".format(\"asdljkjjf\",\"sadwsfd\"))"
   ]
  },
  {
   "cell_type": "code",
   "execution_count": 45,
   "id": "d228b13a",
   "metadata": {},
   "outputs": [
    {
     "name": "stdout",
     "output_type": "stream",
     "text": [
      "MY Name is asdljkjjf. i'm from sadwsfd.......\n"
     ]
    }
   ],
   "source": [
    "print(\"MY Name is {}. i'm from {}\".format(\"asdljkjjf\",\"sadwsfd.......\"))\n",
    "\n"
   ]
  },
  {
   "cell_type": "markdown",
   "id": "9c1b7538",
   "metadata": {},
   "source": [
    "# F-PRINT"
   ]
  },
  {
   "cell_type": "code",
   "execution_count": 56,
   "id": "21723b71",
   "metadata": {
    "scrolled": true
   },
   "outputs": [
    {
     "name": "stdout",
     "output_type": "stream",
     "text": [
      "my name is ganesha , I'm a Robot engineeeerrr\n"
     ]
    }
   ],
   "source": [
    "print(f\"my name is {'ganesha'} , I'm a Robot {'engineeeerrr'}\")"
   ]
  },
  {
   "cell_type": "markdown",
   "id": "79ed0970",
   "metadata": {},
   "source": [
    "# TASK1\n",
    "She \"sell\" sea shell in  \"sea shore\" "
   ]
  },
  {
   "cell_type": "code",
   "execution_count": 69,
   "id": "01f1c653",
   "metadata": {},
   "outputs": [],
   "source": [
    "c = '\"Sell\"'\n",
    "d = '\"sea shore\"'"
   ]
  },
  {
   "cell_type": "code",
   "execution_count": 68,
   "id": "e934bb86",
   "metadata": {
    "scrolled": true
   },
   "outputs": [
    {
     "name": "stdout",
     "output_type": "stream",
     "text": [
      "She  \"Sell\"  sea shell in  \"sea shore\" \n"
     ]
    }
   ],
   "source": [
    "print(\"She\",c,\"sea shell in\",d)"
   ]
  },
  {
   "cell_type": "code",
   "execution_count": 74,
   "id": "11e89c99",
   "metadata": {},
   "outputs": [
    {
     "name": "stdout",
     "output_type": "stream",
     "text": [
      "She \"Sell\" sea shell in \"Sea shore\" \n"
     ]
    }
   ],
   "source": [
    "print(\"She{}sea shell in{}\".format(' \"Sell\" ', ' \"Sea shore\" '))"
   ]
  },
  {
   "cell_type": "code",
   "execution_count": 80,
   "id": "cb06a36e",
   "metadata": {},
   "outputs": [
    {
     "name": "stdout",
     "output_type": "stream",
     "text": [
      "209\n"
     ]
    },
    {
     "data": {
      "text/plain": [
       "'209'"
      ]
     },
     "execution_count": 80,
     "metadata": {},
     "output_type": "execute_result"
    }
   ],
   "source": [
    "input()"
   ]
  },
  {
   "cell_type": "code",
   "execution_count": 78,
   "id": "4cc540ea",
   "metadata": {},
   "outputs": [
    {
     "name": "stdout",
     "output_type": "stream",
     "text": [
      "parandhanam\n"
     ]
    }
   ],
   "source": [
    "var99 = input()"
   ]
  },
  {
   "cell_type": "code",
   "execution_count": 79,
   "id": "145fbd27",
   "metadata": {
    "scrolled": true
   },
   "outputs": [
    {
     "data": {
      "text/plain": [
       "'parandhanam'"
      ]
     },
     "execution_count": 79,
     "metadata": {},
     "output_type": "execute_result"
    }
   ],
   "source": [
    "var99"
   ]
  },
  {
   "cell_type": "code",
   "execution_count": null,
   "id": "795a7ebe",
   "metadata": {},
   "outputs": [],
   "source": [
    "var98 = int(input(\"Enter your phone (only girls) :\"))"
   ]
  },
  {
   "cell_type": "code",
   "execution_count": null,
   "id": "e98a51d3",
   "metadata": {},
   "outputs": [],
   "source": []
  }
 ],
 "metadata": {
  "kernelspec": {
   "display_name": "Python 3 (ipykernel)",
   "language": "python",
   "name": "python3"
  },
  "language_info": {
   "codemirror_mode": {
    "name": "ipython",
    "version": 3
   },
   "file_extension": ".py",
   "mimetype": "text/x-python",
   "name": "python",
   "nbconvert_exporter": "python",
   "pygments_lexer": "ipython3",
   "version": "3.10.12"
  }
 },
 "nbformat": 4,
 "nbformat_minor": 5
}
