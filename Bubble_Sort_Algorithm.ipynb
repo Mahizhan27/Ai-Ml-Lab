{
 "cells": [
  {
   "cell_type": "code",
   "execution_count": null,
   "id": "245d44ce",
   "metadata": {},
   "outputs": [],
   "source": [
    "data = [74,5,36,3,765,4353,6783,345,2,34,67,86,2,3,56,68,56,34,7,54,86,23,57,67586,456,6564,35,232,782,83,982,84,45,93,92,74,8452,6,2903]"
   ]
  },
  {
   "cell_type": "code",
   "execution_count": null,
   "id": "d1239ddb",
   "metadata": {},
   "outputs": [],
   "source": [
    "data.sort()"
   ]
  },
  {
   "cell_type": "code",
   "execution_count": null,
   "id": "44091553",
   "metadata": {},
   "outputs": [],
   "source": [
    "data"
   ]
  },
  {
   "cell_type": "code",
   "execution_count": null,
   "id": "e7d6c6bf",
   "metadata": {},
   "outputs": [],
   "source": [
    "def bubble_sort(data):\n",
    "    i = len(data)\n",
    "    for j in range(0,i):   # Loops for array\n",
    "        for k in range(0,i-j-1):   #Loops for comparing \n",
    "            if data[k] >s data[k+1]:\n",
    "                l = data[k]\n",
    "                data[k] = data[k+1]\n",
    "                data[k+1] = l\n",
    "        # else:\n",
    "        "
   ]
  },
  {
   "cell_type": "code",
   "execution_count": null,
   "id": "29927595",
   "metadata": {},
   "outputs": [],
   "source": [
    "type(data)"
   ]
  },
  {
   "cell_type": "code",
   "execution_count": null,
   "id": "3a7ab1c1",
   "metadata": {},
   "outputs": [],
   "source": [
    "bubble_sort(data)"
   ]
  },
  {
   "cell_type": "code",
   "execution_count": null,
   "id": "6a5d716f",
   "metadata": {},
   "outputs": [],
   "source": [
    "len(data)"
   ]
  },
  {
   "cell_type": "code",
   "execution_count": null,
   "id": "b4f7d324",
   "metadata": {},
   "outputs": [],
   "source": [
    "data"
   ]
  },
  {
   "cell_type": "code",
   "execution_count": null,
   "id": "07d60244",
   "metadata": {},
   "outputs": [],
   "source": []
  },
  {
   "cell_type": "code",
   "execution_count": null,
   "id": "e013afd0",
   "metadata": {},
   "outputs": [],
   "source": []
  }
 ],
 "metadata": {
  "kernelspec": {
   "display_name": "Python 3 (ipykernel)",
   "language": "python",
   "name": "python3"
  },
  "language_info": {
   "codemirror_mode": {
    "name": "ipython",
    "version": 3
   },
   "file_extension": ".py",
   "mimetype": "text/x-python",
   "name": "python",
   "nbconvert_exporter": "python",
   "pygments_lexer": "ipython3",
   "version": "3.10.12"
  }
 },
 "nbformat": 4,
 "nbformat_minor": 5
}
