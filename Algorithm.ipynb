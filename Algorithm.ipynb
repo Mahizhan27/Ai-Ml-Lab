{
 "cells": [
  {
   "cell_type": "markdown",
   "id": "e3959324",
   "metadata": {},
   "source": [
    "#algorithm\n",
    "A Finite Set of precise instruments of performing a computation or for solving a probmlem\n",
    "use loop till the end \n",
    "\n",
    "#Finding a maximum element\n",
    "* check next element for maximum value\n",
    "* If maximum then reassign variable max.\n",
    "* exit of loop-Maximum element found.\n",
    "\n",
    "#Properties of an Algorithm\n",
    "* Input\n",
    "  >What the Algorithm takes\n",
    "* output \n",
    "  >what the algorithm produces\n",
    "* definiteness \n",
    "  >steps are defined precisely\n",
    "* correctness\n",
    "  >should produce the correct output\n",
    "* finiteness \n",
    "  >steps required should be finite\n",
    "* effectiveness\n",
    "  >each step must able to perform finite amount of time\n",
    "* generality\n",
    "  >algorithm should be applicable for all problems of similar form\n",
    "  \n",
    "  "
   ]
  },
  {
   "cell_type": "markdown",
   "id": "deabd1a2",
   "metadata": {},
   "source": [
    "# Problem solving phases:\n",
    "  * acquiring&understanding the problem statement\n",
    "  * ground work on the problem \n",
    "\n",
    "# building phase:\n",
    "  * produce an ordered sequence of steps\n",
    "  * describe solution of problem\n",
    "  * sequence of steps is called an algorithm.\n",
    "\n",
    "# implementation phases\n",
    "  * Implement the program in some programming language.\n",
    "\n",
    "\n"
   ]
  },
  {
   "cell_type": "code",
   "execution_count": null,
   "id": "b6927082",
   "metadata": {},
   "outputs": [],
   "source": [
    "m1=int(input(\"Enter the Student mark 1 :\"))  \n",
    "m2=int(input(\"Enter the Student mark 2 :\"))\n",
    "m3=int(input(\"Enter the Student mark 3 :\"))\n",
    "m4=int(input(\"Enter the Student mark 4 :\"))\n",
    "sum = m1+m2+m3+m4;\n",
    "avg = sum/4;\n",
    "print(\"Total mark is \",sum,\"/400\")\n",
    "print(\"Grade of mark is \",avg)\n",
    "if avg < 45:\n",
    "    print(\"Fail\")\n",
    "else :\n",
    "    print(\"Pass\")\n",
    "\n",
    "    \n",
    " "
   ]
  },
  {
   "cell_type": "code",
   "execution_count": null,
   "id": "2d08f0f0",
   "metadata": {},
   "outputs": [],
   "source": [
    "m1=int(input(\"Enter the Student mark 1 :\"))  \n",
    "m2=int(input(\"Enter the Student mark 2 :\"))\n",
    "m3=int(input(\"Enter the Student mark 3 :\"))\n",
    "m4=int(input(\"Enter the Student mark 4 :\"))\n",
    "avg = (m1+m2+m3+m4)/4\n",
    "if avg < 45:\n",
    "    print(\"Fail\")\n",
    "else :\n",
    "    print(\"Pass\")\n"
   ]
  },
  {
   "cell_type": "markdown",
   "id": "735909d1",
   "metadata": {},
   "source": [
    "# Above program's algorithm:\n",
    "step 1: Input m1,m2,m3,m4 \n",
    "step 2: Grade <-----(m1+m2+m3+m4)/4 \n",
    "step 3: if(Grade<50): \n",
    "           print(pass) \n",
    "        else \\n\n",
    "           print(fail) "
   ]
  },
  {
   "cell_type": "code",
   "execution_count": null,
   "id": "8f80f1d1",
   "metadata": {},
   "outputs": [],
   "source": [
    "#Acquring Data \n",
    "Marks =[]\n",
    "for m in range(1,5):\n",
    "    Marks.append(int(input(f\"Enter mark {m} :\")))\n",
    "    "
   ]
  },
  {
   "cell_type": "code",
   "execution_count": null,
   "id": "b3122976",
   "metadata": {},
   "outputs": [],
   "source": [
    "#Calculating average\n",
    "avg=sum(Marks)/4\n",
    "avg"
   ]
  },
  {
   "cell_type": "code",
   "execution_count": null,
   "id": "476f478f",
   "metadata": {},
   "outputs": [],
   "source": [
    "if avg<45:\n",
    "    print(\"Fail\")\n",
    "else :\n",
    "    print(\"Pass\")"
   ]
  },
  {
   "cell_type": "code",
   "execution_count": null,
   "id": "41aee2b9",
   "metadata": {},
   "outputs": [],
   "source": []
  }
 ],
 "metadata": {
  "kernelspec": {
   "display_name": "Python 3 (ipykernel)",
   "language": "python",
   "name": "python3"
  },
  "language_info": {
   "codemirror_mode": {
    "name": "ipython",
    "version": 3
   },
   "file_extension": ".py",
   "mimetype": "text/x-python",
   "name": "python",
   "nbconvert_exporter": "python",
   "pygments_lexer": "ipython3",
   "version": "3.10.12"
  }
 },
 "nbformat": 4,
 "nbformat_minor": 5
}
