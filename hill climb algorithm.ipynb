{
 "cells": [
  {
   "cell_type": "markdown",
   "id": "ea4184e6",
   "metadata": {},
   "source": [
    "# travelling sales person"
   ]
  },
  {
   "cell_type": "markdown",
   "id": "83b062d0",
   "metadata": {},
   "source": [
    "# finding the best possible shortest route amoung these cities to travel\n",
    "\n",
    "chennai-bangalore = 347\n",
    "\n",
    "chennai-delhi = 2196\n",
    "\n",
    "chennai-kolkata = 1667\n",
    "\n",
    "bangalore-delhi = 2164\n",
    "\n",
    "banglore-kolkata = 1875\n",
    "\n",
    "delhi-kolkata = 1559\n",
    "\n",
    "all values in kms"
   ]
  },
  {
   "cell_type": "markdown",
   "id": "c566b773",
   "metadata": {},
   "source": [
    "# IMPORTING RANDOM LIBRARY"
   ]
  },
  {
   "cell_type": "code",
   "execution_count": 6,
   "id": "278770ff",
   "metadata": {},
   "outputs": [],
   "source": [
    "import random"
   ]
  },
  {
   "cell_type": "markdown",
   "id": "e52b1770",
   "metadata": {},
   "source": [
    "# TRAVELLING SALES MAN CITY DISTANCE"
   ]
  },
  {
   "cell_type": "code",
   "execution_count": 7,
   "id": "09581767",
   "metadata": {},
   "outputs": [],
   "source": [
    "tsp=[[0,347,2196,1667],\n",
    "     [347,0,2164,1875],\n",
    "     [2196,2164,0,1559],\n",
    "     [1667,1875,1559,0]]"
   ]
  },
  {
   "cell_type": "code",
   "execution_count": null,
   "id": "b13bb4ce",
   "metadata": {},
   "outputs": [],
   "source": []
  }
 ],
 "metadata": {
  "kernelspec": {
   "display_name": "Python 3 (ipykernel)",
   "language": "python",
   "name": "python3"
  },
  "language_info": {
   "codemirror_mode": {
    "name": "ipython",
    "version": 3
   },
   "file_extension": ".py",
   "mimetype": "text/x-python",
   "name": "python",
   "nbconvert_exporter": "python",
   "pygments_lexer": "ipython3",
   "version": "3.9.12"
  }
 },
 "nbformat": 4,
 "nbformat_minor": 5
}
